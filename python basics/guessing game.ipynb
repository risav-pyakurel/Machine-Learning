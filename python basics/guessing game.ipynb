{
 "cells": [
  {
   "cell_type": "code",
   "execution_count": 1,
   "id": "3b5eeb06",
   "metadata": {},
   "outputs": [],
   "source": [
    "import random"
   ]
  },
  {
   "cell_type": "code",
   "execution_count": 4,
   "id": "66b3a14b",
   "metadata": {},
   "outputs": [
    {
     "data": {
      "text/plain": [
       "64"
      ]
     },
     "execution_count": 4,
     "metadata": {},
     "output_type": "execute_result"
    }
   ],
   "source": [
    "random.randint(1,100)"
   ]
  },
  {
   "cell_type": "code",
   "execution_count": 6,
   "id": "1ea8b28d",
   "metadata": {},
   "outputs": [
    {
     "name": "stdout",
     "output_type": "stream",
     "text": [
      "guess the number22\n",
      "Guess higher\n",
      "guess again55\n",
      "Guess higher\n",
      "guess again4\n",
      "Guess higher\n",
      "guess again78\n",
      "Guess higher\n",
      "guess again90\n",
      "Guess lower\n",
      "guess again80\n",
      "Guess higher\n",
      "guess again85\n",
      "Guess lower\n",
      "guess again82\n",
      "Guess lower\n",
      "guess again81\n",
      "Right guess\n",
      "you took 9 attempts\n"
     ]
    }
   ],
   "source": [
    "jackpot = random.randint(1,100)\n",
    "guess =int(input(\"guess the number\"))\n",
    "counter =1\n",
    "while  guess != jackpot:\n",
    "    if guess < jackpot:\n",
    "        print(\"Guess higher\")\n",
    "    else :\n",
    "        print(\"Guess lower\") \n",
    "    guess = int(input(\"guess again\"))\n",
    "    counter +=1\n",
    "print(\"Right guess\")\n",
    "print(\"you took\",counter,\"attempts\")"
   ]
  },
  {
   "cell_type": "code",
   "execution_count": null,
   "id": "9bf6a612",
   "metadata": {},
   "outputs": [],
   "source": []
  }
 ],
 "metadata": {
  "kernelspec": {
   "display_name": "Python 3 (ipykernel)",
   "language": "python",
   "name": "python3"
  },
  "language_info": {
   "codemirror_mode": {
    "name": "ipython",
    "version": 3
   },
   "file_extension": ".py",
   "mimetype": "text/x-python",
   "name": "python",
   "nbconvert_exporter": "python",
   "pygments_lexer": "ipython3",
   "version": "3.10.6"
  }
 },
 "nbformat": 4,
 "nbformat_minor": 5
}
