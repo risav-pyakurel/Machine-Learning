{
 "cells": [
  {
   "cell_type": "code",
   "execution_count": 1,
   "id": "c9de6fa8",
   "metadata": {},
   "outputs": [
    {
     "name": "stdout",
     "output_type": "stream",
     "text": [
      "Enter your emaildert@gmail.com\n",
      "Enter your password5566\n",
      "Incorrect email or password\n"
     ]
    }
   ],
   "source": [
    " #checking inputed email pswd using if-else statment  \n",
    "    \n",
    "email =input(\"Enter your email\")\n",
    "password = input (\"Enter your password\")\n",
    "\n",
    "if email == \"risav@gmail.com\" and password == \"1234\" :\n",
    "    print('welcome to your homepage')\n",
    "else :\n",
    "    print(\"Incorrect email or password\")\n"
   ]
  },
  {
   "cell_type": "code",
   "execution_count": 2,
   "id": "ab214703",
   "metadata": {},
   "outputs": [
    {
     "name": "stdout",
     "output_type": "stream",
     "text": [
      "Enter your emailrisav@gmail.com\n",
      "Enter your password1234\n",
      "welcome to your homepage\n"
     ]
    }
   ],
   "source": [
    "email =input(\"Enter your email\")\n",
    "password = input (\"Enter your password\")\n",
    "\n",
    "if email == \"risav@gmail.com\" and password == \"1234\" :\n",
    "    print('welcome to your homepage')\n",
    "else :\n",
    "    print(\"Incorrect email or password\")"
   ]
  },
  {
   "cell_type": "code",
   "execution_count": null,
   "id": "1d33fe94",
   "metadata": {},
   "outputs": [],
   "source": []
  },
  {
   "cell_type": "code",
   "execution_count": null,
   "id": "ecefcb70",
   "metadata": {},
   "outputs": [],
   "source": [
    "\n",
    "    "
   ]
  },
  {
   "cell_type": "code",
   "execution_count": null,
   "id": "56e11a82",
   "metadata": {},
   "outputs": [],
   "source": []
  },
  {
   "cell_type": "code",
   "execution_count": null,
   "id": "5acae968",
   "metadata": {},
   "outputs": [],
   "source": []
  },
  {
   "cell_type": "code",
   "execution_count": null,
   "id": "38d203e0",
   "metadata": {},
   "outputs": [],
   "source": []
  }
 ],
 "metadata": {
  "kernelspec": {
   "display_name": "Python 3 (ipykernel)",
   "language": "python",
   "name": "python3"
  },
  "language_info": {
   "codemirror_mode": {
    "name": "ipython",
    "version": 3
   },
   "file_extension": ".py",
   "mimetype": "text/x-python",
   "name": "python",
   "nbconvert_exporter": "python",
   "pygments_lexer": "ipython3",
   "version": "3.10.6"
  }
 },
 "nbformat": 4,
 "nbformat_minor": 5
}
