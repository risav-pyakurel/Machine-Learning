{
 "cells": [
  {
   "cell_type": "markdown",
   "id": "c5681aa9",
   "metadata": {},
   "source": [
    "Modules\n",
    "\n",
    "consider a module to be the same as code libary\n",
    "\n",
    "A file containing a set of functions you want to include in ur application\n",
    "\n",
    "examples of python modules\n",
    "\n",
    ".Math\n",
    ".Random\n",
    ".OS\n",
    ".Time"
   ]
  },
  {
   "cell_type": "code",
   "execution_count": 1,
   "id": "a3ee9657",
   "metadata": {},
   "outputs": [
    {
     "name": "stdout",
     "output_type": "stream",
     "text": [
      "\n",
      "Please wait a moment while I gather a list of all available modules...\n",
      "\n",
      "AptUrl              ast                 isoduration         random\n",
      "CommandNotFound     asttokens           itertools           re\n",
      "DistUpgrade         asynchat            janitor             readline\n",
      "HweSupportStatus    asyncio             jedi                reportlab\n",
      "IPython             asyncore            jeepney             reprlib\n",
      "LanguageSelector    atexit              jinja2              requests\n",
      "NvidiaDetector      attr                json                resource\n",
      "PIL                 attrs               jsonpointer         rfc3339_validator\n",
      "Quirks              audioop             jsonschema          rfc3986_validator\n",
      "UbuntuDrivers       backcall            jupyter             rlcompleter\n",
      "UpdateManager       base64              jupyter_client      runpy\n",
      "__future__          bcrypt              jupyter_console     scanext\n",
      "_abc                bdb                 jupyter_core        sched\n",
      "_aix_support        binascii            jupyter_events      secrets\n",
      "_argon2_cffi_bindings binhex              jupyter_server      secretstorage\n",
      "_ast                bisect              jupyter_server_terminals select\n",
      "_asyncio            bleach              jupyterlab_pygments selectors\n",
      "_bisect             blinker             jupyterlab_widgets  send2trash\n",
      "_blake2             brlapi              jwt                 setuptools\n",
      "_bootsubprocess     bs4                 keyring             shelve\n",
      "_bz2                builtins            keyword             shlex\n",
      "_cffi_backend       bz2                 language_support_pkgs shutil\n",
      "_codecs             cProfile            launchpadlib        signal\n",
      "_codecs_cn          cairo               ldb                 site\n",
      "_codecs_hk          calendar            lib2to3             sitecustomize\n",
      "_codecs_iso2022     certifi             libfuturize         six\n",
      "_codecs_jp          cffi                libpasteurize       smtpd\n",
      "_codecs_kr          cgi                 linecache           smtplib\n",
      "_codecs_tw          cgitb               locale              sndhdr\n",
      "_collections        chardet             lockfile            sniffio\n",
      "_collections_abc    chunk               logging             socket\n",
      "_compat_pickle      click               louis               socketserver\n",
      "_compression        cmath               lsb_release         softwareproperties\n",
      "_contextvars        cmd                 lzma                soupsieve\n",
      "_crypt              code                macaroonbakery      speechd\n",
      "_csv                codecs              mailbox             speechd_config\n",
      "_ctypes             codeop              mailcap             spwd\n",
      "_ctypes_test        collections         mako                sqlite3\n",
      "_curses             colorama            markupsafe          sre_compile\n",
      "_curses_panel       colorsys            marshal             sre_constants\n",
      "_datetime           comm                math                sre_parse\n",
      "_dbm                compileall          matplotlib_inline   ssl\n",
      "_dbus_bindings      concurrent          mimetypes           stack_data\n",
      "_dbus_glib_bindings configparser        mistune             stat\n",
      "_decimal            contextlib          mmap                statistics\n",
      "_distutils_hack     contextvars         modulefinder        string\n",
      "_distutils_system_mod copy                monotonic           stringprep\n",
      "_elementtree        copyreg             more_itertools      struct\n",
      "_functools          crypt               multiprocessing     subprocess\n",
      "_gdbm               cryptography        nacl                sunau\n",
      "_hashlib            csv                 nbclassic           symtable\n",
      "_heapq              ctypes              nbclient            sys\n",
      "_imp                cups                nbconvert           sysconfig\n",
      "_io                 cupsext             nbformat            syslog\n",
      "_json               cupshelpers         nest_asyncio        systemd\n",
      "_ldb_text           curses              netifaces           tabnanny\n",
      "_locale             dataclasses         netrc               talloc\n",
      "_lsprof             datetime            nis                 tarfile\n",
      "_lzma               dateutil            nntplib             telnetlib\n",
      "_markupbase         dbm                 notebook            tempfile\n",
      "_md5                dbus                notebook_shim       terminado\n",
      "_multibytecodec     deb822              ntpath              termios\n",
      "_multiprocessing    debconf             nturl2path          test\n",
      "_opcode             debian              numbers             textwrap\n",
      "_operator           debian_bundle       oauthlib            this\n",
      "_osx_support        debugpy             olefile             threading\n",
      "_pickle             decimal             opcode              time\n",
      "_posixshmem         decorator           operator            timeit\n",
      "_posixsubprocess    defer               optparse            tinycss2\n",
      "_py_abc             defusedxml          orca                tkinter\n",
      "_pydecimal          difflib             os                  token\n",
      "_pyio               dis                 ossaudiodev         tokenize\n",
      "_pyrsistent_version distro              packaging           tornado\n",
      "_queue              distro_info         pandocfilters       trace\n",
      "_random             distutils           paramiko            traceback\n",
      "_sha1               doctest             parso               tracemalloc\n",
      "_sha256             duplicity           past                traitlets\n",
      "_sha3               email               pathlib             tty\n",
      "_sha512             encodings           pcardext            turtle\n",
      "_signal             entrypoints         pdb                 types\n",
      "_sitebuiltins       enum                pexpect             typing\n",
      "_socket             errno               pickle              uaclient\n",
      "_sqlite3            executing           pickleshare         ufw\n",
      "_sre                fasteners           pickletools         unicodedata\n",
      "_ssl                fastjsonschema      pip                 unittest\n",
      "_stat               faulthandler        pipes               uno\n",
      "_statistics         fcntl               pkg_resources       unohelper\n",
      "_string             filecmp             pkgutil             uri_template\n",
      "_strptime           fileinput           platform            urllib\n",
      "_struct             fnmatch             platformdirs        urllib3\n",
      "_symtable           fqdn                plistlib            usbcreator\n",
      "_sysconfigdata__linux_x86_64-linux-gnu fractions           poplib              uu\n",
      "_sysconfigdata__x86_64-linux-gnu ftplib              posix               uuid\n",
      "_testbuffer         functools           posixpath           venv\n",
      "_testcapi           future              pprint              wadllib\n",
      "_testimportmultiple gc                  problem_report      warnings\n",
      "_testinternalcapi   genericpath         profile             wave\n",
      "_testmultiphase     getopt              prometheus_client   wcwidth\n",
      "_thread             getpass             prompt_toolkit      weakref\n",
      "_threading_local    gettext             pstats              webbrowser\n",
      "_tkinter            gi                  psutil              webcolors\n",
      "_tracemalloc        glob                pty                 webencodings\n",
      "_uuid               graphlib            ptyprocess          websocket\n",
      "_warnings           grp                 pure_eval           wheel\n",
      "_weakref            gzip                pwd                 widgetsnbextension\n",
      "_weakrefset         hashlib             py_compile          wsgiref\n",
      "_xxsubinterpreters  heapq               pyatspi             xdg\n",
      "_xxtestfuzz         hmac                pyclbr              xdrlib\n",
      "_yaml               hpmudext            pycparser           xkit\n",
      "_zoneinfo           html                pydoc               xml\n",
      "abc                 http                pydoc_data          xmlrpc\n",
      "aifc                httplib2            pyexpat             xxlimited\n",
      "antigravity         idna                pygments            xxlimited_35\n",
      "anyio               imaplib             pygtkcompat         xxsubtype\n",
      "apport              imghdr              pymacaroons         yaml\n",
      "apport_python_hook  imp                 pyparsing           zipapp\n",
      "apt                 importlib           pyrfc3339           zipfile\n",
      "apt_inst            importlib_metadata  pyrsistent          zipimport\n",
      "apt_pkg             inspect             pythonjsonlogger    zipp\n",
      "aptdaemon           io                  pythonturtle        zlib\n",
      "aptsources          ipaddress           pytz                zmq\n",
      "argon2              ipykernel           qtconsole           zoneinfo\n",
      "argparse            ipykernel_launcher  qtpy                \n",
      "array               ipython_genutils    queue               \n",
      "arrow               ipywidgets          quopri              \n",
      "\n",
      "Enter any module name to get more help.  Or, type \"modules spam\" to search\n",
      "for modules whose name or summary contain the string \"spam\".\n",
      "\n"
     ]
    }
   ],
   "source": [
    "help('modules')"
   ]
  },
  {
   "cell_type": "code",
   "execution_count": 2,
   "id": "d8832a3a",
   "metadata": {},
   "outputs": [],
   "source": [
    "import math   #press Tab you willget the list of functions in that module"
   ]
  },
  {
   "cell_type": "code",
   "execution_count": 3,
   "id": "71a4f894",
   "metadata": {},
   "outputs": [
    {
     "data": {
      "text/plain": [
       "3.141592653589793"
      ]
     },
     "execution_count": 3,
     "metadata": {},
     "output_type": "execute_result"
    }
   ],
   "source": [
    "math.pi"
   ]
  },
  {
   "cell_type": "code",
   "execution_count": 4,
   "id": "efed7f33",
   "metadata": {},
   "outputs": [
    {
     "data": {
      "text/plain": [
       "2.718281828459045"
      ]
     },
     "execution_count": 4,
     "metadata": {},
     "output_type": "execute_result"
    }
   ],
   "source": [
    "math.e"
   ]
  },
  {
   "cell_type": "code",
   "execution_count": 5,
   "id": "80b84552",
   "metadata": {},
   "outputs": [
    {
     "data": {
      "text/plain": [
       "5040"
      ]
     },
     "execution_count": 5,
     "metadata": {},
     "output_type": "execute_result"
    }
   ],
   "source": [
    "math.factorial(7)"
   ]
  },
  {
   "cell_type": "markdown",
   "id": "8eaa5469",
   "metadata": {},
   "source": []
  },
  {
   "cell_type": "code",
   "execution_count": 6,
   "id": "98364e6f",
   "metadata": {},
   "outputs": [],
   "source": [
    "import random"
   ]
  },
  {
   "cell_type": "code",
   "execution_count": 8,
   "id": "23301a19",
   "metadata": {},
   "outputs": [
    {
     "data": {
      "text/plain": [
       "17"
      ]
     },
     "execution_count": 8,
     "metadata": {},
     "output_type": "execute_result"
    }
   ],
   "source": [
    "random.randint(1,22)"
   ]
  },
  {
   "cell_type": "code",
   "execution_count": 11,
   "id": "1623c49d",
   "metadata": {},
   "outputs": [],
   "source": []
  },
  {
   "cell_type": "code",
   "execution_count": null,
   "id": "ea19e06a",
   "metadata": {},
   "outputs": [],
   "source": []
  },
  {
   "cell_type": "code",
   "execution_count": 13,
   "id": "f0dde20c",
   "metadata": {},
   "outputs": [
    {
     "data": {
      "text/plain": [
       "[1, 2, 4, 5, 3]"
      ]
     },
     "execution_count": 13,
     "metadata": {},
     "output_type": "execute_result"
    }
   ],
   "source": [
    "a = [1,2,3,4,5]\n",
    "random.shuffle(a)\n",
    "a"
   ]
  },
  {
   "cell_type": "code",
   "execution_count": 14,
   "id": "f6977ad7",
   "metadata": {},
   "outputs": [],
   "source": [
    "import time"
   ]
  },
  {
   "cell_type": "code",
   "execution_count": 17,
   "id": "d7fe8a5e",
   "metadata": {},
   "outputs": [
    {
     "data": {
      "text/plain": [
       "1675150344.5645103"
      ]
     },
     "execution_count": 17,
     "metadata": {},
     "output_type": "execute_result"
    }
   ],
   "source": [
    "time.time()"
   ]
  },
  {
   "cell_type": "code",
   "execution_count": 18,
   "id": "b8797904",
   "metadata": {},
   "outputs": [
    {
     "data": {
      "text/plain": [
       "'Tue Jan 31 13:17:42 2023'"
      ]
     },
     "execution_count": 18,
     "metadata": {},
     "output_type": "execute_result"
    }
   ],
   "source": [
    "time.ctime()"
   ]
  },
  {
   "cell_type": "code",
   "execution_count": 19,
   "id": "3453d991",
   "metadata": {},
   "outputs": [
    {
     "name": "stdout",
     "output_type": "stream",
     "text": [
      "hello\n",
      "world\n"
     ]
    }
   ],
   "source": [
    "print('hello')\n",
    "time.sleep(2)\n",
    "print('world')"
   ]
  },
  {
   "cell_type": "code",
   "execution_count": 20,
   "id": "29f3f832",
   "metadata": {},
   "outputs": [],
   "source": [
    "import os"
   ]
  },
  {
   "cell_type": "code",
   "execution_count": 21,
   "id": "a9553bda",
   "metadata": {},
   "outputs": [
    {
     "data": {
      "text/plain": [
       "'/home/risav/python basics'"
      ]
     },
     "execution_count": 21,
     "metadata": {},
     "output_type": "execute_result"
    }
   ],
   "source": [
    "os.getcwd()"
   ]
  },
  {
   "cell_type": "code",
   "execution_count": 22,
   "id": "a46540b8",
   "metadata": {},
   "outputs": [
    {
     "data": {
      "text/plain": [
       "['decision control.ipynb',\n",
       " 'built in functions.ipynb',\n",
       " 'built in modules.ipynb',\n",
       " 'for loops.ipynb',\n",
       " 'Operators.ipynb',\n",
       " 'keywords and identifiers.ipynb',\n",
       " 'break continue and pass statment.ipynb',\n",
       " 'while loop and for loops.ipynb',\n",
       " 'Untitled2.ipynb',\n",
       " 'nested loops.ipynb',\n",
       " 'Untitled1.ipynb',\n",
       " 'nested if else.ipynb',\n",
       " 'Untitled.ipynb',\n",
       " 'guessing game.ipynb',\n",
       " '.ipynb_checkpoints',\n",
       " 'taking -input-and- type-conversion.ipynb']"
      ]
     },
     "execution_count": 22,
     "metadata": {},
     "output_type": "execute_result"
    }
   ],
   "source": [
    "os.listdir()"
   ]
  },
  {
   "cell_type": "code",
   "execution_count": null,
   "id": "0dac6d4e",
   "metadata": {},
   "outputs": [],
   "source": []
  }
 ],
 "metadata": {
  "kernelspec": {
   "display_name": "Python 3 (ipykernel)",
   "language": "python",
   "name": "python3"
  },
  "language_info": {
   "codemirror_mode": {
    "name": "ipython",
    "version": 3
   },
   "file_extension": ".py",
   "mimetype": "text/x-python",
   "name": "python",
   "nbconvert_exporter": "python",
   "pygments_lexer": "ipython3",
   "version": "3.10.6"
  }
 },
 "nbformat": 4,
 "nbformat_minor": 5
}
