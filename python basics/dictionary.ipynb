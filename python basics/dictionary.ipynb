{
 "cells": [
  {
   "cell_type": "code",
   "execution_count": null,
   "id": "3d545efb",
   "metadata": {},
   "outputs": [],
   "source": [
    "#dictionary is a data type that has keyvalue pairs separated by a comma,"
   ]
  },
  {
   "cell_type": "code",
   "execution_count": 1,
   "id": "dd9c1d66",
   "metadata": {},
   "outputs": [
    {
     "data": {
      "text/plain": [
       "{'Name': 'Risav', 'Gender': 'Male'}"
      ]
     },
     "execution_count": 1,
     "metadata": {},
     "output_type": "execute_result"
    }
   ],
   "source": [
    "{\"Name\": \"Risav\",\"Gender\":\"Male\"}"
   ]
  },
  {
   "cell_type": "markdown",
   "id": "bc708ba4",
   "metadata": {},
   "source": [
    "Rules\n",
    "1. Dictionary has no indexing\n",
    "2. Dictionary is a mutable data type\n",
    "3. Keys should always be immutable and values can be mutable\n",
    "4. Keys should be unique\n",
    "\n",
    "\n",
    "mutable data types are list, sets, dictionary\n",
    "immutable data types are strings, tuples, int, float, boolean, complex"
   ]
  },
  {
   "cell_type": "code",
   "execution_count": 2,
   "id": "fceca9d5",
   "metadata": {},
   "outputs": [
    {
     "data": {
      "text/plain": [
       "{}"
      ]
     },
     "execution_count": 2,
     "metadata": {},
     "output_type": "execute_result"
    }
   ],
   "source": [
    "#create\n",
    "d ={}\n",
    "d"
   ]
  },
  {
   "cell_type": "code",
   "execution_count": 3,
   "id": "b2604bac",
   "metadata": {},
   "outputs": [
    {
     "data": {
      "text/plain": [
       "{'Name': 'Risav', 'Gender': 'Male'}"
      ]
     },
     "execution_count": 3,
     "metadata": {},
     "output_type": "execute_result"
    }
   ],
   "source": [
    "d ={\"Name\": \"Risav\",\"Gender\":\"Male\"}\n",
    "d"
   ]
  },
  {
   "cell_type": "code",
   "execution_count": 4,
   "id": "31b69f74",
   "metadata": {},
   "outputs": [
    {
     "data": {
      "text/plain": [
       "dict"
      ]
     },
     "execution_count": 4,
     "metadata": {},
     "output_type": "execute_result"
    }
   ],
   "source": [
    "type(d)"
   ]
  },
  {
   "cell_type": "code",
   "execution_count": 5,
   "id": "ca240552",
   "metadata": {},
   "outputs": [
    {
     "ename": "TypeError",
     "evalue": "unhashable type: 'list'",
     "output_type": "error",
     "traceback": [
      "\u001b[0;31m---------------------------------------------------------------------------\u001b[0m",
      "\u001b[0;31mTypeError\u001b[0m                                 Traceback (most recent call last)",
      "Cell \u001b[0;32mIn[5], line 1\u001b[0m\n\u001b[0;32m----> 1\u001b[0m e\u001b[38;5;241m=\u001b[39m{[\u001b[38;5;241m1\u001b[39m,\u001b[38;5;241m2\u001b[39m,\u001b[38;5;241m3\u001b[39m]:\u001b[38;5;124m\"\u001b[39m\u001b[38;5;124mrisav\u001b[39m\u001b[38;5;124m\"\u001b[39m}\n\u001b[1;32m      2\u001b[0m e\n",
      "\u001b[0;31mTypeError\u001b[0m: unhashable type: 'list'"
     ]
    }
   ],
   "source": [
    "e={[1,2,3]:\"risav\"}\n",
    "e"
   ]
  },
  {
   "cell_type": "code",
   "execution_count": 6,
   "id": "0db0ca34",
   "metadata": {},
   "outputs": [
    {
     "data": {
      "text/plain": [
       "{(1, 2, 3): 'risav'}"
      ]
     },
     "execution_count": 6,
     "metadata": {},
     "output_type": "execute_result"
    }
   ],
   "source": [
    "e={(1,2,3):\"risav\"}\n",
    "e"
   ]
  },
  {
   "cell_type": "code",
   "execution_count": 8,
   "id": "43699158",
   "metadata": {},
   "outputs": [
    {
     "data": {
      "text/plain": [
       "{'name': 'samrat'}"
      ]
     },
     "execution_count": 8,
     "metadata": {},
     "output_type": "execute_result"
    }
   ],
   "source": [
    "f={\"name\":\"risav\",\"name\":\"samrat\"}\n",
    "f"
   ]
  },
  {
   "cell_type": "code",
   "execution_count": null,
   "id": "55423a04",
   "metadata": {},
   "outputs": [],
   "source": [
    "#creating 2d dictionary"
   ]
  },
  {
   "cell_type": "code",
   "execution_count": 9,
   "id": "c3260356",
   "metadata": {},
   "outputs": [
    {
     "data": {
      "text/plain": [
       "{'name': 'risav', 'college': 'ASCOL', 'Marks': {'maths': 44, 'DSA': 55}}"
      ]
     },
     "execution_count": 9,
     "metadata": {},
     "output_type": "execute_result"
    }
   ],
   "source": [
    "d={\"name\":\"risav\",\"college\":\"ASCOL\",\"Marks\":{\"maths\":44,\"DSA\":55}}\n",
    "d"
   ]
  },
  {
   "cell_type": "code",
   "execution_count": null,
   "id": "701361d2",
   "metadata": {},
   "outputs": [],
   "source": [
    "#Acessing items from a dictionary (by providing the current key)"
   ]
  },
  {
   "cell_type": "code",
   "execution_count": 10,
   "id": "1f47681e",
   "metadata": {},
   "outputs": [
    {
     "data": {
      "text/plain": [
       "'risav'"
      ]
     },
     "execution_count": 10,
     "metadata": {},
     "output_type": "execute_result"
    }
   ],
   "source": [
    "d['name']"
   ]
  },
  {
   "cell_type": "code",
   "execution_count": 11,
   "id": "1d198a3a",
   "metadata": {},
   "outputs": [
    {
     "data": {
      "text/plain": [
       "'ASCOL'"
      ]
     },
     "execution_count": 11,
     "metadata": {},
     "output_type": "execute_result"
    }
   ],
   "source": [
    "d[\"college\"]"
   ]
  },
  {
   "cell_type": "code",
   "execution_count": 13,
   "id": "282e11d8",
   "metadata": {},
   "outputs": [
    {
     "data": {
      "text/plain": [
       "{'maths': 44, 'DSA': 55}"
      ]
     },
     "execution_count": 13,
     "metadata": {},
     "output_type": "execute_result"
    }
   ],
   "source": [
    "d['Marks']"
   ]
  },
  {
   "cell_type": "code",
   "execution_count": 14,
   "id": "0f3a9bfb",
   "metadata": {},
   "outputs": [
    {
     "data": {
      "text/plain": [
       "55"
      ]
     },
     "execution_count": 14,
     "metadata": {},
     "output_type": "execute_result"
    }
   ],
   "source": [
    "d[\"Marks\"][\"DSA\"]"
   ]
  },
  {
   "cell_type": "code",
   "execution_count": null,
   "id": "6fb0cb03",
   "metadata": {},
   "outputs": [],
   "source": [
    "#edit"
   ]
  },
  {
   "cell_type": "code",
   "execution_count": 15,
   "id": "5f1df37b",
   "metadata": {},
   "outputs": [
    {
     "data": {
      "text/plain": [
       "{'name': 'samrat', 'college': 'ASCOL', 'Marks': {'maths': 44, 'DSA': 55}}"
      ]
     },
     "execution_count": 15,
     "metadata": {},
     "output_type": "execute_result"
    }
   ],
   "source": [
    "d['name']='samrat'\n",
    "d"
   ]
  },
  {
   "cell_type": "code",
   "execution_count": 17,
   "id": "a77a674c",
   "metadata": {},
   "outputs": [
    {
     "data": {
      "text/plain": [
       "{'name': 'samrat', 'college': 'ASCOL', 'Marks': {'maths': 44, 'DSA': 55}}"
      ]
     },
     "execution_count": 17,
     "metadata": {},
     "output_type": "execute_result"
    }
   ],
   "source": [
    "d['Marks']['DSA']=55\n",
    "d"
   ]
  },
  {
   "cell_type": "code",
   "execution_count": 19,
   "id": "e4fe078f",
   "metadata": {},
   "outputs": [
    {
     "data": {
      "text/plain": [
       "'samrat'"
      ]
     },
     "execution_count": 19,
     "metadata": {},
     "output_type": "execute_result"
    }
   ],
   "source": [
    "d.get('name')"
   ]
  },
  {
   "cell_type": "code",
   "execution_count": null,
   "id": "59b7cd29",
   "metadata": {},
   "outputs": [],
   "source": [
    "#adding new key value pairs"
   ]
  },
  {
   "cell_type": "code",
   "execution_count": 20,
   "id": "a652a4e7",
   "metadata": {},
   "outputs": [
    {
     "data": {
      "text/plain": [
       "{'name': 'samrat', 'college': 'ASCOL', 'Marks': {'maths': 44, 'DSA': 55}}"
      ]
     },
     "execution_count": 20,
     "metadata": {},
     "output_type": "execute_result"
    }
   ],
   "source": [
    "d"
   ]
  },
  {
   "cell_type": "code",
   "execution_count": 21,
   "id": "7c122459",
   "metadata": {},
   "outputs": [
    {
     "data": {
      "text/plain": [
       "{'name': 'samrat',\n",
       " 'college': 'ASCOL',\n",
       " 'Marks': {'maths': 44, 'DSA': 55},\n",
       " 'age': 22}"
      ]
     },
     "execution_count": 21,
     "metadata": {},
     "output_type": "execute_result"
    }
   ],
   "source": [
    "d['age']=22\n",
    "d"
   ]
  },
  {
   "cell_type": "code",
   "execution_count": 23,
   "id": "cd2a2631",
   "metadata": {},
   "outputs": [
    {
     "data": {
      "text/plain": [
       "{'name': 'samrat',\n",
       " 'college': 'ASCOL',\n",
       " 'Marks': {'maths': 44, 'DSA': 55, 'NM': 66},\n",
       " 'age': 22}"
      ]
     },
     "execution_count": 23,
     "metadata": {},
     "output_type": "execute_result"
    }
   ],
   "source": [
    "d['Marks']['NM']=66\n",
    "d"
   ]
  },
  {
   "cell_type": "code",
   "execution_count": 24,
   "id": "145c2ce3",
   "metadata": {},
   "outputs": [
    {
     "data": {
      "text/plain": [
       "{'name': 'samrat',\n",
       " 'college': 'ASCOL',\n",
       " 'Marks': {'maths': 44, 'DSA': 55, 'NM': 66}}"
      ]
     },
     "execution_count": 24,
     "metadata": {},
     "output_type": "execute_result"
    }
   ],
   "source": [
    "#deleting individual keyvalue pairs\n",
    "del d[\"age\"]\n",
    "d"
   ]
  },
  {
   "cell_type": "code",
   "execution_count": 25,
   "id": "7c25595e",
   "metadata": {},
   "outputs": [
    {
     "data": {
      "text/plain": [
       "{}"
      ]
     },
     "execution_count": 25,
     "metadata": {},
     "output_type": "execute_result"
    }
   ],
   "source": [
    "d.clear()\n",
    "d"
   ]
  },
  {
   "cell_type": "code",
   "execution_count": 26,
   "id": "02fa8760",
   "metadata": {},
   "outputs": [
    {
     "data": {
      "text/plain": [
       "{'name': 'samrat', 'college': 'ASCOL', 'Marks': {'maths': 44, 'DSA': 55}}"
      ]
     },
     "execution_count": 26,
     "metadata": {},
     "output_type": "execute_result"
    }
   ],
   "source": [
    "d={'name': 'samrat', 'college': 'ASCOL', 'Marks': {'maths': 44, 'DSA': 55}}\n",
    "d"
   ]
  },
  {
   "cell_type": "code",
   "execution_count": 27,
   "id": "ac8e3755",
   "metadata": {},
   "outputs": [
    {
     "name": "stdout",
     "output_type": "stream",
     "text": [
      "name\n",
      "college\n",
      "Marks\n"
     ]
    }
   ],
   "source": [
    "for i in d:  #we only get keys in loop in dictionary\n",
    "    print(i)"
   ]
  },
  {
   "cell_type": "code",
   "execution_count": 28,
   "id": "9a8599f9",
   "metadata": {},
   "outputs": [
    {
     "name": "stdout",
     "output_type": "stream",
     "text": [
      "name samrat\n",
      "college ASCOL\n",
      "Marks {'maths': 44, 'DSA': 55}\n"
     ]
    }
   ],
   "source": [
    "#but\n",
    "for i in d:\n",
    "    print(i,d[i])"
   ]
  },
  {
   "cell_type": "code",
   "execution_count": null,
   "id": "79796c54",
   "metadata": {},
   "outputs": [],
   "source": []
  }
 ],
 "metadata": {
  "kernelspec": {
   "display_name": "Python 3 (ipykernel)",
   "language": "python",
   "name": "python3"
  },
  "language_info": {
   "codemirror_mode": {
    "name": "ipython",
    "version": 3
   },
   "file_extension": ".py",
   "mimetype": "text/x-python",
   "name": "python",
   "nbconvert_exporter": "python",
   "pygments_lexer": "ipython3",
   "version": "3.10.7"
  }
 },
 "nbformat": 4,
 "nbformat_minor": 5
}
