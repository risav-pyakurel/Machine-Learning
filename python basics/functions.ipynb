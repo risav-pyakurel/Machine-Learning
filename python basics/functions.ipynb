{
 "cells": [
  {
   "cell_type": "markdown",
   "id": "5ecb09ac",
   "metadata": {},
   "source": [
    "# this function tells if a given number is odd or even"
   ]
  },
  {
   "cell_type": "code",
   "execution_count": 1,
   "id": "4a59b3d2",
   "metadata": {},
   "outputs": [
    {
     "name": "stdout",
     "output_type": "stream",
     "text": [
      "odd\n",
      "even\n",
      "odd\n",
      "even\n",
      "odd\n",
      "even\n",
      "odd\n",
      "even\n",
      "odd\n",
      "even\n"
     ]
    }
   ],
   "source": [
    "def is_even(number):\n",
    "    \"\"\"\"\n",
    "    this function tells if a given number is odd or even\n",
    "    Input - any valid integer\n",
    "    output - odd/even\n",
    "    Created by - risav\n",
    "    last edited - chaitra 5\n",
    "    \"\"\"\n",
    "    if number %2 ==0:\n",
    "        return \"even\"\n",
    "    else:\n",
    "        return \"odd\"\n",
    "for i in range(1,11):\n",
    "    print(is_even(i))"
   ]
  },
  {
   "cell_type": "code",
   "execution_count": 2,
   "id": "afc5fb58",
   "metadata": {},
   "outputs": [
    {
     "name": "stdout",
     "output_type": "stream",
     "text": [
      "None\n"
     ]
    }
   ],
   "source": [
    "print(is_even.__doc__) # for printing docu"
   ]
  },
  {
   "cell_type": "code",
   "execution_count": 1,
   "id": "88eb62a9",
   "metadata": {},
   "outputs": [],
   "source": [
    "def power(a,b):\n",
    "    return a**b"
   ]
  },
  {
   "cell_type": "code",
   "execution_count": 2,
   "id": "5f1b8f50",
   "metadata": {},
   "outputs": [
    {
     "data": {
      "text/plain": [
       "243"
      ]
     },
     "execution_count": 2,
     "metadata": {},
     "output_type": "execute_result"
    }
   ],
   "source": [
    "power(3,5)"
   ]
  },
  {
   "cell_type": "code",
   "execution_count": 3,
   "id": "52b978bf",
   "metadata": {},
   "outputs": [
    {
     "data": {
      "text/plain": [
       "78125"
      ]
     },
     "execution_count": 3,
     "metadata": {},
     "output_type": "execute_result"
    }
   ],
   "source": [
    "power(5,7)"
   ]
  },
  {
   "cell_type": "code",
   "execution_count": 4,
   "id": "b0a08dd5",
   "metadata": {},
   "outputs": [
    {
     "ename": "TypeError",
     "evalue": "power() missing 1 required positional argument: 'b'",
     "output_type": "error",
     "traceback": [
      "\u001b[1;31m---------------------------------------------------------------------------\u001b[0m",
      "\u001b[1;31mTypeError\u001b[0m                                 Traceback (most recent call last)",
      "Cell \u001b[1;32mIn[4], line 1\u001b[0m\n\u001b[1;32m----> 1\u001b[0m \u001b[43mpower\u001b[49m\u001b[43m(\u001b[49m\u001b[38;5;241;43m3\u001b[39;49m\u001b[43m)\u001b[49m\n",
      "\u001b[1;31mTypeError\u001b[0m: power() missing 1 required positional argument: 'b'"
     ]
    }
   ],
   "source": [
    "power(3)"
   ]
  },
  {
   "cell_type": "code",
   "execution_count": 5,
   "id": "02258f2a",
   "metadata": {},
   "outputs": [],
   "source": [
    "#default argument"
   ]
  },
  {
   "cell_type": "code",
   "execution_count": 6,
   "id": "e6278d02",
   "metadata": {},
   "outputs": [],
   "source": [
    "def power(a=1,b=1):\n",
    "    return a**b"
   ]
  },
  {
   "cell_type": "code",
   "execution_count": 7,
   "id": "b0df4908",
   "metadata": {},
   "outputs": [
    {
     "data": {
      "text/plain": [
       "8"
      ]
     },
     "execution_count": 7,
     "metadata": {},
     "output_type": "execute_result"
    }
   ],
   "source": [
    "power(2,3)"
   ]
  },
  {
   "cell_type": "code",
   "execution_count": 8,
   "id": "dfa080e2",
   "metadata": {},
   "outputs": [
    {
     "data": {
      "text/plain": [
       "7"
      ]
     },
     "execution_count": 8,
     "metadata": {},
     "output_type": "execute_result"
    }
   ],
   "source": [
    "power(7)"
   ]
  },
  {
   "cell_type": "code",
   "execution_count": null,
   "id": "f66f6483",
   "metadata": {},
   "outputs": [],
   "source": [
    "#positional"
   ]
  },
  {
   "cell_type": "code",
   "execution_count": 9,
   "id": "030637f3",
   "metadata": {},
   "outputs": [
    {
     "data": {
      "text/plain": [
       "9"
      ]
     },
     "execution_count": 9,
     "metadata": {},
     "output_type": "execute_result"
    }
   ],
   "source": [
    "power(b=2,a=3)"
   ]
  },
  {
   "cell_type": "code",
   "execution_count": 10,
   "id": "49cc69e0",
   "metadata": {},
   "outputs": [],
   "source": [
    "#arbitary"
   ]
  },
  {
   "cell_type": "code",
   "execution_count": 11,
   "id": "681e3758",
   "metadata": {},
   "outputs": [
    {
     "name": "stdout",
     "output_type": "stream",
     "text": [
      "1 2 3\n"
     ]
    }
   ],
   "source": [
    "print(1,2,3)"
   ]
  },
  {
   "cell_type": "code",
   "execution_count": 12,
   "id": "85110993",
   "metadata": {},
   "outputs": [],
   "source": [
    "def flexi(*number):  #using astrik helps to convert in tuple\n",
    "    product =1\n",
    "    for i in number:\n",
    "             product = product*i\n",
    "    print(product)\n",
    "        "
   ]
  },
  {
   "cell_type": "code",
   "execution_count": 13,
   "id": "49746226",
   "metadata": {},
   "outputs": [
    {
     "name": "stdout",
     "output_type": "stream",
     "text": [
      "1\n"
     ]
    }
   ],
   "source": [
    "flexi(1)"
   ]
  },
  {
   "cell_type": "code",
   "execution_count": 16,
   "id": "a8c4b53a",
   "metadata": {},
   "outputs": [
    {
     "name": "stdout",
     "output_type": "stream",
     "text": [
      "6\n"
     ]
    }
   ],
   "source": [
    "flexi(1,2,3)"
   ]
  },
  {
   "cell_type": "code",
   "execution_count": 17,
   "id": "3183fd08",
   "metadata": {},
   "outputs": [
    {
     "name": "stdout",
     "output_type": "stream",
     "text": [
      "79860\n"
     ]
    }
   ],
   "source": [
    "flexi(33,44,55)"
   ]
  },
  {
   "cell_type": "code",
   "execution_count": null,
   "id": "a3aab2f8",
   "metadata": {},
   "outputs": [],
   "source": []
  }
 ],
 "metadata": {
  "kernelspec": {
   "display_name": "Python 3 (ipykernel)",
   "language": "python",
   "name": "python3"
  },
  "language_info": {
   "codemirror_mode": {
    "name": "ipython",
    "version": 3
   },
   "file_extension": ".py",
   "mimetype": "text/x-python",
   "name": "python",
   "nbconvert_exporter": "python",
   "pygments_lexer": "ipython3",
   "version": "3.11.2"
  }
 },
 "nbformat": 4,
 "nbformat_minor": 5
}
