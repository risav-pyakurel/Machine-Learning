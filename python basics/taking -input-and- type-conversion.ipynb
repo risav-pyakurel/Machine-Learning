{
 "cells": [
  {
   "cell_type": "code",
   "execution_count": 1,
   "id": "cba1ace9",
   "metadata": {},
   "outputs": [
    {
     "name": "stdout",
     "output_type": "stream",
     "text": [
      "56\n"
     ]
    },
    {
     "data": {
      "text/plain": [
       "'56'"
      ]
     },
     "execution_count": 1,
     "metadata": {},
     "output_type": "execute_result"
    }
   ],
   "source": [
    "input()"
   ]
  },
  {
   "cell_type": "code",
   "execution_count": 4,
   "id": "ceafde19",
   "metadata": {},
   "outputs": [
    {
     "name": "stdout",
     "output_type": "stream",
     "text": [
      "Say my name Risav\n"
     ]
    },
    {
     "data": {
      "text/plain": [
       "' Risav'"
      ]
     },
     "execution_count": 4,
     "metadata": {},
     "output_type": "execute_result"
    }
   ],
   "source": [
    "input ('Say my name')"
   ]
  },
  {
   "cell_type": "code",
   "execution_count": 6,
   "id": "17bc76d4",
   "metadata": {},
   "outputs": [
    {
     "name": "stdout",
     "output_type": "stream",
     "text": [
      "enter the first number45\n",
      "enter the second number66\n"
     ]
    }
   ],
   "source": [
    "first_num=input(\"enter the first number\")\n",
    "second_num = input(\"enter the second number\")\n"
   ]
  },
  {
   "cell_type": "code",
   "execution_count": 7,
   "id": "ebfc11ac",
   "metadata": {},
   "outputs": [
    {
     "name": "stdout",
     "output_type": "stream",
     "text": [
      "45\n",
      "66\n"
     ]
    }
   ],
   "source": [
    "print(first_num)\n",
    "print(second_num)"
   ]
  },
  {
   "cell_type": "code",
   "execution_count": 8,
   "id": "861f47ac",
   "metadata": {},
   "outputs": [
    {
     "name": "stdout",
     "output_type": "stream",
     "text": [
      "4566\n"
     ]
    }
   ],
   "source": [
    "result= first_num + second_num \n",
    "print(result)"
   ]
  },
  {
   "cell_type": "code",
   "execution_count": null,
   "id": "1d037361",
   "metadata": {},
   "outputs": [],
   "source": [
    "#if we are taking input from the user in the input function, output willbe in string format "
   ]
  },
  {
   "cell_type": "code",
   "execution_count": 9,
   "id": "016e7dd4",
   "metadata": {},
   "outputs": [
    {
     "data": {
      "text/plain": [
       "float"
      ]
     },
     "execution_count": 9,
     "metadata": {},
     "output_type": "execute_result"
    }
   ],
   "source": [
    "#type\n",
    "\n",
    "type(2.4)"
   ]
  },
  {
   "cell_type": "code",
   "execution_count": 10,
   "id": "5cb4203b",
   "metadata": {},
   "outputs": [
    {
     "data": {
      "text/plain": [
       "bool"
      ]
     },
     "execution_count": 10,
     "metadata": {},
     "output_type": "execute_result"
    }
   ],
   "source": [
    "type(False)"
   ]
  },
  {
   "cell_type": "code",
   "execution_count": 11,
   "id": "2219d2aa",
   "metadata": {},
   "outputs": [
    {
     "data": {
      "text/plain": [
       "str"
      ]
     },
     "execution_count": 11,
     "metadata": {},
     "output_type": "execute_result"
    }
   ],
   "source": [
    "type('3')"
   ]
  },
  {
   "cell_type": "code",
   "execution_count": 12,
   "id": "9035a3f8",
   "metadata": {},
   "outputs": [
    {
     "data": {
      "text/plain": [
       "int"
      ]
     },
     "execution_count": 12,
     "metadata": {},
     "output_type": "execute_result"
    }
   ],
   "source": [
    "type(3)"
   ]
  },
  {
   "cell_type": "code",
   "execution_count": 13,
   "id": "e6e2d599",
   "metadata": {},
   "outputs": [
    {
     "data": {
      "text/plain": [
       "complex"
      ]
     },
     "execution_count": 13,
     "metadata": {},
     "output_type": "execute_result"
    }
   ],
   "source": [
    "type(4+5j)"
   ]
  },
  {
   "cell_type": "code",
   "execution_count": 14,
   "id": "38e957f3",
   "metadata": {},
   "outputs": [
    {
     "data": {
      "text/plain": [
       "list"
      ]
     },
     "execution_count": 14,
     "metadata": {},
     "output_type": "execute_result"
    }
   ],
   "source": [
    "type([3,4,5,6])"
   ]
  },
  {
   "cell_type": "markdown",
   "id": "7d57b747",
   "metadata": {},
   "source": [
    "# Type conversion\n",
    "it's not a permanent operation"
   ]
  },
  {
   "cell_type": "markdown",
   "id": "6651aad0",
   "metadata": {},
   "source": [
    " 2types of type conversion\n",
    "    . implicit\n",
    "    . explicit"
   ]
  },
  {
   "cell_type": "code",
   "execution_count": null,
   "id": "e8c81b54",
   "metadata": {},
   "outputs": [],
   "source": [
    "# in implicit python itself does type conversion"
   ]
  },
  {
   "cell_type": "code",
   "execution_count": 15,
   "id": "89450347",
   "metadata": {},
   "outputs": [
    {
     "data": {
      "text/plain": [
       "9.5"
      ]
     },
     "execution_count": 15,
     "metadata": {},
     "output_type": "execute_result"
    }
   ],
   "source": [
    "4+5.5"
   ]
  },
  {
   "cell_type": "code",
   "execution_count": 16,
   "id": "6928e6eb",
   "metadata": {},
   "outputs": [
    {
     "data": {
      "text/plain": [
       "(11+7j)"
      ]
     },
     "execution_count": 16,
     "metadata": {},
     "output_type": "execute_result"
    }
   ],
   "source": [
    "5+6+7j"
   ]
  },
  {
   "cell_type": "code",
   "execution_count": 17,
   "id": "df4557f4",
   "metadata": {},
   "outputs": [
    {
     "data": {
      "text/plain": [
       "(10.5+7j)"
      ]
     },
     "execution_count": 17,
     "metadata": {},
     "output_type": "execute_result"
    }
   ],
   "source": [
    "4.5+6+7j\n"
   ]
  },
  {
   "cell_type": "code",
   "execution_count": 18,
   "id": "079b6bec",
   "metadata": {},
   "outputs": [
    {
     "data": {
      "text/plain": [
       "'4566'"
      ]
     },
     "execution_count": 18,
     "metadata": {},
     "output_type": "execute_result"
    }
   ],
   "source": [
    "first_num + second_num"
   ]
  },
  {
   "cell_type": "code",
   "execution_count": null,
   "id": "7458181c",
   "metadata": {},
   "outputs": [],
   "source": [
    "#in explicit user has to use function for type conversion"
   ]
  },
  {
   "cell_type": "code",
   "execution_count": 20,
   "id": "a8f7d4bd",
   "metadata": {},
   "outputs": [
    {
     "data": {
      "text/plain": [
       "4"
      ]
     },
     "execution_count": 20,
     "metadata": {},
     "output_type": "execute_result"
    }
   ],
   "source": [
    "int(4.5)"
   ]
  },
  {
   "cell_type": "code",
   "execution_count": 21,
   "id": "17f3253f",
   "metadata": {},
   "outputs": [
    {
     "data": {
      "text/plain": [
       "3.0"
      ]
     },
     "execution_count": 21,
     "metadata": {},
     "output_type": "execute_result"
    }
   ],
   "source": [
    "float(3)"
   ]
  },
  {
   "cell_type": "code",
   "execution_count": 22,
   "id": "aab7e7c1",
   "metadata": {},
   "outputs": [
    {
     "data": {
      "text/plain": [
       "'67'"
      ]
     },
     "execution_count": 22,
     "metadata": {},
     "output_type": "execute_result"
    }
   ],
   "source": [
    "str(67)"
   ]
  },
  {
   "cell_type": "code",
   "execution_count": 23,
   "id": "19cabb6e",
   "metadata": {},
   "outputs": [
    {
     "data": {
      "text/plain": [
       "True"
      ]
     },
     "execution_count": 23,
     "metadata": {},
     "output_type": "execute_result"
    }
   ],
   "source": [
    "bool(1)"
   ]
  },
  {
   "cell_type": "code",
   "execution_count": 24,
   "id": "11c73da6",
   "metadata": {},
   "outputs": [
    {
     "data": {
      "text/plain": [
       "(34+0j)"
      ]
     },
     "execution_count": 24,
     "metadata": {},
     "output_type": "execute_result"
    }
   ],
   "source": [
    "complex(34)"
   ]
  },
  {
   "cell_type": "code",
   "execution_count": 25,
   "id": "ad0610a9",
   "metadata": {},
   "outputs": [
    {
     "data": {
      "text/plain": [
       "['h', 'e', 'l', 'l', 'o']"
      ]
     },
     "execution_count": 25,
     "metadata": {},
     "output_type": "execute_result"
    }
   ],
   "source": [
    "list('hello')"
   ]
  },
  {
   "cell_type": "code",
   "execution_count": 26,
   "id": "3bd3e23f",
   "metadata": {},
   "outputs": [
    {
     "ename": "ValueError",
     "evalue": "invalid literal for int() with base 10: 'chitwan'",
     "output_type": "error",
     "traceback": [
      "\u001b[0;31m---------------------------------------------------------------------------\u001b[0m",
      "\u001b[0;31mValueError\u001b[0m                                Traceback (most recent call last)",
      "Cell \u001b[0;32mIn[26], line 1\u001b[0m\n\u001b[0;32m----> 1\u001b[0m \u001b[38;5;28;43mint\u001b[39;49m\u001b[43m(\u001b[49m\u001b[38;5;124;43m'\u001b[39;49m\u001b[38;5;124;43mchitwan\u001b[39;49m\u001b[38;5;124;43m'\u001b[39;49m\u001b[43m)\u001b[49m\n",
      "\u001b[0;31mValueError\u001b[0m: invalid literal for int() with base 10: 'chitwan'"
     ]
    }
   ],
   "source": [
    "int('chitwan')"
   ]
  },
  {
   "cell_type": "code",
   "execution_count": 28,
   "id": "f442c63a",
   "metadata": {},
   "outputs": [
    {
     "name": "stdout",
     "output_type": "stream",
     "text": [
      "enter the first number55\n",
      "enter the second number55\n",
      "110\n"
     ]
    }
   ],
   "source": [
    "first_num=input(\"enter the first number\")\n",
    "second_num = input(\"enter the second number\")\n",
    "result = int(first_num)+ int(second_num)\n",
    "print(result)"
   ]
  },
  {
   "cell_type": "code",
   "execution_count": 30,
   "id": "1a5c43fd",
   "metadata": {},
   "outputs": [
    {
     "name": "stdout",
     "output_type": "stream",
     "text": [
      "enter the first number45\n",
      "enter the second number67\n",
      "112\n"
     ]
    }
   ],
   "source": [
    "first_num= int(input(\"enter the first number\"))\n",
    "second_num = int(input(\"enter the second number\"))\n",
    "\n",
    "result = first_num+ second_num\n",
    "print(result)\n"
   ]
  },
  {
   "cell_type": "code",
   "execution_count": null,
   "id": "a8135094",
   "metadata": {},
   "outputs": [],
   "source": []
  }
 ],
 "metadata": {
  "kernelspec": {
   "display_name": "Python 3 (ipykernel)",
   "language": "python",
   "name": "python3"
  },
  "language_info": {
   "codemirror_mode": {
    "name": "ipython",
    "version": 3
   },
   "file_extension": ".py",
   "mimetype": "text/x-python",
   "name": "python",
   "nbconvert_exporter": "python",
   "pygments_lexer": "ipython3",
   "version": "3.10.6"
  }
 },
 "nbformat": 4,
 "nbformat_minor": 5
}
