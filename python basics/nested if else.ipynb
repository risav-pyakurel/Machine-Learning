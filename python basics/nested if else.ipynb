{
 "cells": [
  {
   "cell_type": "code",
   "execution_count": null,
   "id": "7930e59f",
   "metadata": {},
   "outputs": [],
   "source": [
    "#if user gives email correctly but input wrong psswd then giving one more chance to input password\n",
    "\n",
    "#using else if and nested if else\n"
   ]
  },
  {
   "cell_type": "code",
   "execution_count": 1,
   "id": "a8f528b6",
   "metadata": {},
   "outputs": [
    {
     "name": "stdout",
     "output_type": "stream",
     "text": [
      "enter your emailrisav@gmail.com\n",
      "enter your passwordeet\n",
      "Password incorrect\n",
      "enter password again1234\n",
      "finally correct\n"
     ]
    }
   ],
   "source": [
    "email = input(\"enter your email\")\n",
    "password = input(\"enter your password\")\n",
    "if email == \"risav@gmail.com\" and password == \"1234\":\n",
    "    print(\"welcome\")\n",
    "elif email == \"risav@gmail.com\" and password != \"1234\":\n",
    "    print(\"Password incorrect\")\n",
    "    password = input(\"enter password again\")\n",
    "    if password == \"1234\":\n",
    "        print(\"finally correct, welcome to your page\")\n",
    "    else:\n",
    "        print(\"still incorrect\")\n",
    "else:\n",
    "    print(\"incorrect email or password\")"
   ]
  },
  {
   "cell_type": "code",
   "execution_count": null,
   "id": "52b7c16f",
   "metadata": {},
   "outputs": [],
   "source": []
  },
  {
   "cell_type": "code",
   "execution_count": 6,
   "id": "d5eff39f",
   "metadata": {},
   "outputs": [
    {
     "ename": "IndentationError",
     "evalue": "unexpected indent (507875085.py, line 6)",
     "output_type": "error",
     "traceback": [
      "\u001b[0;36m  Cell \u001b[0;32mIn[6], line 6\u001b[0;36m\u001b[0m\n\u001b[0;31m    elif email == \"risav@gmail.com\" and password != \"1234\":\u001b[0m\n\u001b[0m    ^\u001b[0m\n\u001b[0;31mIndentationError\u001b[0m\u001b[0;31m:\u001b[0m unexpected indent\n"
     ]
    }
   ],
   "source": []
  },
  {
   "cell_type": "code",
   "execution_count": null,
   "id": "e99d20a8",
   "metadata": {},
   "outputs": [],
   "source": []
  }
 ],
 "metadata": {
  "kernelspec": {
   "display_name": "Python 3 (ipykernel)",
   "language": "python",
   "name": "python3"
  },
  "language_info": {
   "codemirror_mode": {
    "name": "ipython",
    "version": 3
   },
   "file_extension": ".py",
   "mimetype": "text/x-python",
   "name": "python",
   "nbconvert_exporter": "python",
   "pygments_lexer": "ipython3",
   "version": "3.10.6"
  }
 },
 "nbformat": 4,
 "nbformat_minor": 5
}
