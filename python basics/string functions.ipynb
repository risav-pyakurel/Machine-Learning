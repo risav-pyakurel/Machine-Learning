{
 "cells": [
  {
   "cell_type": "markdown",
   "id": "301f4b57",
   "metadata": {},
   "source": [
    "Common Functions\n",
    "\n",
    ". len\n",
    ". max\n",
    ".min\n",
    ".sorted"
   ]
  },
  {
   "cell_type": "code",
   "execution_count": 1,
   "id": "20a8151f",
   "metadata": {},
   "outputs": [
    {
     "data": {
      "text/plain": [
       "9"
      ]
     },
     "execution_count": 1,
     "metadata": {},
     "output_type": "execute_result"
    }
   ],
   "source": [
    "c= 'kathmandu'\n",
    "len(c)"
   ]
  },
  {
   "cell_type": "code",
   "execution_count": 2,
   "id": "221a9ae6",
   "metadata": {},
   "outputs": [
    {
     "data": {
      "text/plain": [
       "'u'"
      ]
     },
     "execution_count": 2,
     "metadata": {},
     "output_type": "execute_result"
    }
   ],
   "source": [
    "max(c)"
   ]
  },
  {
   "cell_type": "code",
   "execution_count": 3,
   "id": "0df78eec",
   "metadata": {},
   "outputs": [
    {
     "data": {
      "text/plain": [
       "'a'"
      ]
     },
     "execution_count": 3,
     "metadata": {},
     "output_type": "execute_result"
    }
   ],
   "source": [
    "min(c)"
   ]
  },
  {
   "cell_type": "code",
   "execution_count": 4,
   "id": "6d2f212e",
   "metadata": {},
   "outputs": [
    {
     "data": {
      "text/plain": [
       "['a', 'a', 'd', 'h', 'k', 'm', 'n', 't', 'u']"
      ]
     },
     "execution_count": 4,
     "metadata": {},
     "output_type": "execute_result"
    }
   ],
   "source": [
    "sorted(c)"
   ]
  },
  {
   "cell_type": "markdown",
   "id": "98e6b0cc",
   "metadata": {},
   "source": [
    "1. Capitalize/Title/Upper/Lower/Swapcase"
   ]
  },
  {
   "cell_type": "code",
   "execution_count": 6,
   "id": "ece18b91",
   "metadata": {},
   "outputs": [
    {
     "data": {
      "text/plain": [
       "'Kathmandu'"
      ]
     },
     "execution_count": 6,
     "metadata": {},
     "output_type": "execute_result"
    }
   ],
   "source": [
    "c\n",
    "c.capitalize()"
   ]
  },
  {
   "cell_type": "code",
   "execution_count": 8,
   "id": "8127bc94",
   "metadata": {},
   "outputs": [
    {
     "data": {
      "text/plain": [
       "'We Are In Fourth Semester'"
      ]
     },
     "execution_count": 8,
     "metadata": {},
     "output_type": "execute_result"
    }
   ],
   "source": [
    "\"We are in fourth semester\".title()"
   ]
  },
  {
   "cell_type": "code",
   "execution_count": 9,
   "id": "b0adee7a",
   "metadata": {},
   "outputs": [
    {
     "data": {
      "text/plain": [
       "'KATHMANDU'"
      ]
     },
     "execution_count": 9,
     "metadata": {},
     "output_type": "execute_result"
    }
   ],
   "source": [
    "c.upper()"
   ]
  },
  {
   "cell_type": "code",
   "execution_count": 10,
   "id": "7697e456",
   "metadata": {},
   "outputs": [
    {
     "data": {
      "text/plain": [
       "'kathmandu'"
      ]
     },
     "execution_count": 10,
     "metadata": {},
     "output_type": "execute_result"
    }
   ],
   "source": [
    "c.lower()"
   ]
  },
  {
   "cell_type": "code",
   "execution_count": 11,
   "id": "9fb79523",
   "metadata": {},
   "outputs": [
    {
     "data": {
      "text/plain": [
       "'kAThMaNdU'"
      ]
     },
     "execution_count": 11,
     "metadata": {},
     "output_type": "execute_result"
    }
   ],
   "source": [
    "\"KatHmAnDu\".swapcase()"
   ]
  },
  {
   "cell_type": "markdown",
   "id": "09308112",
   "metadata": {},
   "source": [
    "2.count"
   ]
  },
  {
   "cell_type": "code",
   "execution_count": 12,
   "id": "7f06ece7",
   "metadata": {},
   "outputs": [
    {
     "data": {
      "text/plain": [
       "5"
      ]
     },
     "execution_count": 12,
     "metadata": {},
     "output_type": "execute_result"
    }
   ],
   "source": [
    "\"We are in fourth semester\".count('e')"
   ]
  },
  {
   "cell_type": "markdown",
   "id": "21c72e1f",
   "metadata": {},
   "source": [
    "3. Find/Index"
   ]
  },
  {
   "cell_type": "code",
   "execution_count": 14,
   "id": "704d4b87",
   "metadata": {},
   "outputs": [
    {
     "data": {
      "text/plain": [
       "10"
      ]
     },
     "execution_count": 14,
     "metadata": {},
     "output_type": "execute_result"
    }
   ],
   "source": [
    "\"We are in fourth semester\".find('f')"
   ]
  },
  {
   "cell_type": "code",
   "execution_count": 15,
   "id": "6345f6b4",
   "metadata": {},
   "outputs": [
    {
     "data": {
      "text/plain": [
       "10"
      ]
     },
     "execution_count": 15,
     "metadata": {},
     "output_type": "execute_result"
    }
   ],
   "source": [
    "\"We are in fourth semester\".index('fourth')"
   ]
  },
  {
   "cell_type": "markdown",
   "id": "8b5e3c27",
   "metadata": {},
   "source": [
    "4. ends with/start with"
   ]
  },
  {
   "cell_type": "code",
   "execution_count": 16,
   "id": "37aa23a7",
   "metadata": {},
   "outputs": [
    {
     "data": {
      "text/plain": [
       "True"
      ]
     },
     "execution_count": 16,
     "metadata": {},
     "output_type": "execute_result"
    }
   ],
   "source": [
    "\"it is raining\".endswith('ing')"
   ]
  },
  {
   "cell_type": "code",
   "execution_count": 17,
   "id": "3e4cd265",
   "metadata": {},
   "outputs": [
    {
     "data": {
      "text/plain": [
       "False"
      ]
     },
     "execution_count": 17,
     "metadata": {},
     "output_type": "execute_result"
    }
   ],
   "source": [
    "\"We are in fourth semester\".endswith('ters')"
   ]
  },
  {
   "cell_type": "code",
   "execution_count": 18,
   "id": "897e8572",
   "metadata": {},
   "outputs": [
    {
     "data": {
      "text/plain": [
       "True"
      ]
     },
     "execution_count": 18,
     "metadata": {},
     "output_type": "execute_result"
    }
   ],
   "source": [
    "\"We are in fourth semester\".startswith('We')"
   ]
  },
  {
   "cell_type": "markdown",
   "id": "3d64a9ce",
   "metadata": {},
   "source": [
    "5. Format"
   ]
  },
  {
   "cell_type": "code",
   "execution_count": 19,
   "id": "eb0a136d",
   "metadata": {},
   "outputs": [
    {
     "data": {
      "text/plain": [
       "'Hello my name is Risav and I am 22'"
      ]
     },
     "execution_count": 19,
     "metadata": {},
     "output_type": "execute_result"
    }
   ],
   "source": [
    "\"Hello my name is {} and I am {}\".format(\"Risav\",22)"
   ]
  },
  {
   "cell_type": "code",
   "execution_count": 20,
   "id": "73c8fb08",
   "metadata": {},
   "outputs": [
    {
     "data": {
      "text/plain": [
       "'Hello my name is 22 and I am Risav'"
      ]
     },
     "execution_count": 20,
     "metadata": {},
     "output_type": "execute_result"
    }
   ],
   "source": [
    "\"Hello my name is {1} and I am {0}\".format(\"Risav\",22)"
   ]
  },
  {
   "cell_type": "code",
   "execution_count": 21,
   "id": "5972f74d",
   "metadata": {},
   "outputs": [
    {
     "data": {
      "text/plain": [
       "'Hello my name is 22 and I am Risav'"
      ]
     },
     "execution_count": 21,
     "metadata": {},
     "output_type": "execute_result"
    }
   ],
   "source": [
    "\"Hello my name is {age} and I am {name}\".format(name =\"Risav\", age =22)"
   ]
  },
  {
   "cell_type": "markdown",
   "id": "19f0d1dc",
   "metadata": {},
   "source": [
    "isalnum/isalpha/isdecimal/isdigit/isidentifier"
   ]
  },
  {
   "cell_type": "code",
   "execution_count": 22,
   "id": "931b1d92",
   "metadata": {},
   "outputs": [
    {
     "data": {
      "text/plain": [
       "True"
      ]
     },
     "execution_count": 22,
     "metadata": {},
     "output_type": "execute_result"
    }
   ],
   "source": [
    "\"DARA20\".isalnum()"
   ]
  },
  {
   "cell_type": "code",
   "execution_count": 23,
   "id": "1c57bd23",
   "metadata": {},
   "outputs": [
    {
     "data": {
      "text/plain": [
       "True"
      ]
     },
     "execution_count": 23,
     "metadata": {},
     "output_type": "execute_result"
    }
   ],
   "source": [
    "\"FLAT\".isalpha()"
   ]
  },
  {
   "cell_type": "code",
   "execution_count": 24,
   "id": "c1c069aa",
   "metadata": {},
   "outputs": [
    {
     "data": {
      "text/plain": [
       "True"
      ]
     },
     "execution_count": 24,
     "metadata": {},
     "output_type": "execute_result"
    }
   ],
   "source": [
    "\"344\".isdigit()"
   ]
  },
  {
   "cell_type": "code",
   "execution_count": 25,
   "id": "68700f1d",
   "metadata": {},
   "outputs": [
    {
     "data": {
      "text/plain": [
       "True"
      ]
     },
     "execution_count": 25,
     "metadata": {},
     "output_type": "execute_result"
    }
   ],
   "source": [
    "\"hello_world\".isidentifier()"
   ]
  },
  {
   "cell_type": "markdown",
   "id": "fe9ae0f0",
   "metadata": {},
   "source": [
    "7.split"
   ]
  },
  {
   "cell_type": "code",
   "execution_count": 26,
   "id": "42846c02",
   "metadata": {},
   "outputs": [
    {
     "data": {
      "text/plain": [
       "['who', 'is', 'the', 'prime', 'minister', 'of', 'nepal']"
      ]
     },
     "execution_count": 26,
     "metadata": {},
     "output_type": "execute_result"
    }
   ],
   "source": [
    "\"who is the prime minister of nepal\".split()"
   ]
  },
  {
   "cell_type": "code",
   "execution_count": 27,
   "id": "e22abcdd",
   "metadata": {},
   "outputs": [
    {
     "data": {
      "text/plain": [
       "['who is the ', ' minister of nepal']"
      ]
     },
     "execution_count": 27,
     "metadata": {},
     "output_type": "execute_result"
    }
   ],
   "source": [
    "\"who is the prime minister of nepal\".split(\"prime\")"
   ]
  },
  {
   "cell_type": "markdown",
   "id": "e205aae3",
   "metadata": {},
   "source": [
    "8.Join"
   ]
  },
  {
   "cell_type": "code",
   "execution_count": 30,
   "id": "730b7c08",
   "metadata": {},
   "outputs": [
    {
     "data": {
      "text/plain": [
       "'who is the prime minister of nepal'"
      ]
     },
     "execution_count": 30,
     "metadata": {},
     "output_type": "execute_result"
    }
   ],
   "source": [
    "\" \".join(['who', 'is', 'the', 'prime', 'minister', 'of', 'nepal'])"
   ]
  },
  {
   "cell_type": "markdown",
   "id": "9c5ac342",
   "metadata": {},
   "source": [
    "9.Replace"
   ]
  },
  {
   "cell_type": "code",
   "execution_count": 32,
   "id": "8c67efe6",
   "metadata": {},
   "outputs": [
    {
     "data": {
      "text/plain": [
       "'who is the education minister of nepal'"
      ]
     },
     "execution_count": 32,
     "metadata": {},
     "output_type": "execute_result"
    }
   ],
   "source": [
    "'who is the prime minister of nepal'.replace('prime','education')"
   ]
  },
  {
   "cell_type": "markdown",
   "id": "7bec5692",
   "metadata": {},
   "source": [
    "10.strip"
   ]
  },
  {
   "cell_type": "code",
   "execution_count": 34,
   "id": "5a3bb227",
   "metadata": {},
   "outputs": [
    {
     "data": {
      "text/plain": [
       "'risav'"
      ]
     },
     "execution_count": 34,
     "metadata": {},
     "output_type": "execute_result"
    }
   ],
   "source": [
    "name=\"               risav          \"\n",
    "name.strip()"
   ]
  },
  {
   "cell_type": "code",
   "execution_count": null,
   "id": "debcd6b3",
   "metadata": {},
   "outputs": [],
   "source": []
  }
 ],
 "metadata": {
  "kernelspec": {
   "display_name": "Python 3 (ipykernel)",
   "language": "python",
   "name": "python3"
  },
  "language_info": {
   "codemirror_mode": {
    "name": "ipython",
    "version": 3
   },
   "file_extension": ".py",
   "mimetype": "text/x-python",
   "name": "python",
   "nbconvert_exporter": "python",
   "pygments_lexer": "ipython3",
   "version": "3.10.7"
  }
 },
 "nbformat": 4,
 "nbformat_minor": 5
}
