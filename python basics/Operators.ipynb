{
 "cells": [
  {
   "cell_type": "markdown",
   "id": "3e3a2da2",
   "metadata": {},
   "source": [
    "# Operators"
   ]
  },
  {
   "cell_type": "markdown",
   "id": "bda79f38",
   "metadata": {},
   "source": [
    "operators are used to perform operations on variables and values. Python has following Operators:\n",
    "\n",
    ". Arithmetic operators\n",
    ". Comparison Operators\n",
    ". Logical Operators\n",
    ". Bitwise Operators\n",
    ". Assignment Operators\n",
    ". Identity Operators\n",
    ". Membership operators"
   ]
  },
  {
   "cell_type": "code",
   "execution_count": null,
   "id": "aa060b7e",
   "metadata": {},
   "outputs": [],
   "source": [
    "# Arthimetic operators perform mathematical operations"
   ]
  },
  {
   "cell_type": "code",
   "execution_count": 9,
   "id": "4b478e90",
   "metadata": {},
   "outputs": [
    {
     "name": "stdout",
     "output_type": "stream",
     "text": [
      "8\n"
     ]
    }
   ],
   "source": [
    "x = 4\n",
    "y= 4\n",
    "print(x+y)"
   ]
  },
  {
   "cell_type": "code",
   "execution_count": 2,
   "id": "e7c0dc4d",
   "metadata": {},
   "outputs": [
    {
     "name": "stdout",
     "output_type": "stream",
     "text": [
      "0\n"
     ]
    }
   ],
   "source": [
    "print(x-y)"
   ]
  },
  {
   "cell_type": "code",
   "execution_count": 3,
   "id": "8ef9a33e",
   "metadata": {},
   "outputs": [
    {
     "name": "stdout",
     "output_type": "stream",
     "text": [
      "1.0\n"
     ]
    }
   ],
   "source": [
    "print(x/y)"
   ]
  },
  {
   "cell_type": "code",
   "execution_count": 4,
   "id": "8e650e51",
   "metadata": {},
   "outputs": [
    {
     "name": "stdout",
     "output_type": "stream",
     "text": [
      "0\n"
     ]
    }
   ],
   "source": [
    "print(x%y)"
   ]
  },
  {
   "cell_type": "code",
   "execution_count": 5,
   "id": "8fe53dce",
   "metadata": {},
   "outputs": [
    {
     "name": "stdout",
     "output_type": "stream",
     "text": [
      "256\n"
     ]
    }
   ],
   "source": [
    "print(x**y) #power of"
   ]
  },
  {
   "cell_type": "code",
   "execution_count": 7,
   "id": "fff3abb8",
   "metadata": {},
   "outputs": [
    {
     "name": "stdout",
     "output_type": "stream",
     "text": [
      "1\n"
     ]
    }
   ],
   "source": [
    "print(x//3)  #integer division"
   ]
  },
  {
   "cell_type": "code",
   "execution_count": null,
   "id": "60084866",
   "metadata": {},
   "outputs": [],
   "source": [
    "#comparison operators"
   ]
  },
  {
   "cell_type": "code",
   "execution_count": 13,
   "id": "35bdb5a5",
   "metadata": {},
   "outputs": [
    {
     "name": "stdout",
     "output_type": "stream",
     "text": [
      "True\n"
     ]
    }
   ],
   "source": [
    "e = 8\n",
    "f= 4\n",
    "print(e > f)"
   ]
  },
  {
   "cell_type": "code",
   "execution_count": 14,
   "id": "a0665404",
   "metadata": {},
   "outputs": [
    {
     "name": "stdout",
     "output_type": "stream",
     "text": [
      "False\n"
     ]
    }
   ],
   "source": [
    "print(e<f)"
   ]
  },
  {
   "cell_type": "code",
   "execution_count": 17,
   "id": "e8196df2",
   "metadata": {},
   "outputs": [
    {
     "name": "stdout",
     "output_type": "stream",
     "text": [
      "False\n"
     ]
    }
   ],
   "source": [
    "print(e == f)"
   ]
  },
  {
   "cell_type": "code",
   "execution_count": 18,
   "id": "6ed0c6d9",
   "metadata": {},
   "outputs": [
    {
     "name": "stdout",
     "output_type": "stream",
     "text": [
      "True\n"
     ]
    }
   ],
   "source": [
    "print(e != f)"
   ]
  },
  {
   "cell_type": "code",
   "execution_count": null,
   "id": "08340a07",
   "metadata": {},
   "outputs": [],
   "source": [
    "#logical operators"
   ]
  },
  {
   "cell_type": "code",
   "execution_count": 19,
   "id": "426c97cb",
   "metadata": {},
   "outputs": [
    {
     "name": "stdout",
     "output_type": "stream",
     "text": [
      "True\n"
     ]
    }
   ],
   "source": [
    "x= True\n",
    "y= False\n",
    "print (x or y)"
   ]
  },
  {
   "cell_type": "code",
   "execution_count": 20,
   "id": "a9066e82",
   "metadata": {},
   "outputs": [
    {
     "name": "stdout",
     "output_type": "stream",
     "text": [
      "False\n"
     ]
    }
   ],
   "source": [
    "print(x and y)"
   ]
  },
  {
   "cell_type": "code",
   "execution_count": 21,
   "id": "c431ddf6",
   "metadata": {},
   "outputs": [
    {
     "name": "stdout",
     "output_type": "stream",
     "text": [
      "False\n"
     ]
    }
   ],
   "source": [
    "print( not x)"
   ]
  },
  {
   "cell_type": "code",
   "execution_count": 22,
   "id": "2cd77583",
   "metadata": {},
   "outputs": [
    {
     "name": "stdout",
     "output_type": "stream",
     "text": [
      "True\n"
     ]
    }
   ],
   "source": [
    "print (not y)"
   ]
  },
  {
   "cell_type": "code",
   "execution_count": null,
   "id": "faaece62",
   "metadata": {},
   "outputs": [],
   "source": [
    "# Bitwise Operator"
   ]
  },
  {
   "cell_type": "code",
   "execution_count": 27,
   "id": "104b7cf3",
   "metadata": {},
   "outputs": [
    {
     "name": "stdout",
     "output_type": "stream",
     "text": [
      "2\n"
     ]
    }
   ],
   "source": [
    " g = 2 \n",
    " h = 3\n",
    "print ( g & h)"
   ]
  },
  {
   "cell_type": "code",
   "execution_count": 28,
   "id": "7ba87c9b",
   "metadata": {},
   "outputs": [
    {
     "name": "stdout",
     "output_type": "stream",
     "text": [
      "3\n"
     ]
    }
   ],
   "source": [
    "print ( g | h)"
   ]
  },
  {
   "cell_type": "code",
   "execution_count": 29,
   "id": "555bd035",
   "metadata": {},
   "outputs": [
    {
     "name": "stdout",
     "output_type": "stream",
     "text": [
      "0\n"
     ]
    }
   ],
   "source": [
    "print(g>>2)"
   ]
  },
  {
   "cell_type": "code",
   "execution_count": 31,
   "id": "662d92aa",
   "metadata": {},
   "outputs": [
    {
     "name": "stdout",
     "output_type": "stream",
     "text": [
      "24\n"
     ]
    }
   ],
   "source": [
    "print(h<<3)"
   ]
  },
  {
   "cell_type": "code",
   "execution_count": null,
   "id": "43a33935",
   "metadata": {},
   "outputs": [],
   "source": [
    "#assignment operator"
   ]
  },
  {
   "cell_type": "code",
   "execution_count": 32,
   "id": "aec73506",
   "metadata": {},
   "outputs": [
    {
     "name": "stdout",
     "output_type": "stream",
     "text": [
      "3\n"
     ]
    }
   ],
   "source": [
    "a = 3\n",
    "print(a)"
   ]
  },
  {
   "cell_type": "code",
   "execution_count": 33,
   "id": "d4d41007",
   "metadata": {},
   "outputs": [
    {
     "name": "stdout",
     "output_type": "stream",
     "text": [
      "6\n"
     ]
    }
   ],
   "source": [
    "a+= 3 # a= a+3\n",
    "print(a)"
   ]
  },
  {
   "cell_type": "code",
   "execution_count": 34,
   "id": "b71727d3",
   "metadata": {},
   "outputs": [
    {
     "name": "stdout",
     "output_type": "stream",
     "text": [
      "3\n"
     ]
    }
   ],
   "source": [
    "a -= 3\n",
    "print(a)"
   ]
  },
  {
   "cell_type": "code",
   "execution_count": null,
   "id": "cdac9d56",
   "metadata": {},
   "outputs": [],
   "source": [
    "# identity operators check whether the two variables are on same memory location or not"
   ]
  },
  {
   "cell_type": "code",
   "execution_count": 35,
   "id": "f200fe72",
   "metadata": {},
   "outputs": [
    {
     "name": "stdout",
     "output_type": "stream",
     "text": [
      "True\n"
     ]
    }
   ],
   "source": [
    "a =3\n",
    "b= 3\n",
    "print ( a is b)"
   ]
  },
  {
   "cell_type": "code",
   "execution_count": 36,
   "id": "d6ab923d",
   "metadata": {},
   "outputs": [
    {
     "name": "stdout",
     "output_type": "stream",
     "text": [
      "True\n"
     ]
    }
   ],
   "source": [
    " a = 'hello'\n",
    " b = 'hello'  \n",
    "print (a is b)"
   ]
  },
  {
   "cell_type": "code",
   "execution_count": 37,
   "id": "2e2ebbc5",
   "metadata": {},
   "outputs": [
    {
     "name": "stdout",
     "output_type": "stream",
     "text": [
      "False\n"
     ]
    }
   ],
   "source": [
    "a = [ 1,2,3]\n",
    "b = [1,2,3]\n",
    "print ( a is b)"
   ]
  },
  {
   "cell_type": "code",
   "execution_count": 38,
   "id": "2cb108ac",
   "metadata": {},
   "outputs": [
    {
     "name": "stdout",
     "output_type": "stream",
     "text": [
      "False\n"
     ]
    }
   ],
   "source": [
    "a = \" hello-world\"\n",
    "b = \" hello-world\"\n",
    "print (a is b)"
   ]
  },
  {
   "cell_type": "code",
   "execution_count": null,
   "id": "75879aea",
   "metadata": {},
   "outputs": [],
   "source": [
    "# membership operator"
   ]
  },
  {
   "cell_type": "code",
   "execution_count": 39,
   "id": "eb8cfe8e",
   "metadata": {},
   "outputs": [
    {
     "name": "stdout",
     "output_type": "stream",
     "text": [
      "False\n"
     ]
    }
   ],
   "source": [
    "x = 'chitwan'\n",
    "print('i' not in x)"
   ]
  },
  {
   "cell_type": "code",
   "execution_count": 40,
   "id": "8b0e0034",
   "metadata": {},
   "outputs": [
    {
     "name": "stdout",
     "output_type": "stream",
     "text": [
      "True\n"
     ]
    }
   ],
   "source": [
    "x = [1,2,3]\n",
    "print(1 in x)"
   ]
  },
  {
   "cell_type": "code",
   "execution_count": null,
   "id": "d3198d7a",
   "metadata": {},
   "outputs": [],
   "source": []
  }
 ],
 "metadata": {
  "kernelspec": {
   "display_name": "Python 3 (ipykernel)",
   "language": "python",
   "name": "python3"
  },
  "language_info": {
   "codemirror_mode": {
    "name": "ipython",
    "version": 3
   },
   "file_extension": ".py",
   "mimetype": "text/x-python",
   "name": "python",
   "nbconvert_exporter": "python",
   "pygments_lexer": "ipython3",
   "version": "3.10.6"
  }
 },
 "nbformat": 4,
 "nbformat_minor": 5
}
