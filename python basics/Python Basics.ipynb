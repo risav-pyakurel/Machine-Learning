{
 "cells": [
  {
   "cell_type": "markdown",
   "id": "c5104cf6",
   "metadata": {},
   "source": [
    "# Python basics"
   ]
  },
  {
   "cell_type": "code",
   "execution_count": 1,
   "id": "0bce6476",
   "metadata": {},
   "outputs": [
    {
     "name": "stdout",
     "output_type": "stream",
     "text": [
      "hello world\n"
     ]
    }
   ],
   "source": [
    "#print function\n",
    "\n",
    "print(\"hello world\")\n"
   ]
  },
  {
   "cell_type": "code",
   "execution_count": 2,
   "id": "7d885ed1",
   "metadata": {},
   "outputs": [
    {
     "name": "stdout",
     "output_type": "stream",
     "text": [
      "7\n"
     ]
    }
   ],
   "source": [
    "print(7)"
   ]
  },
  {
   "cell_type": "code",
   "execution_count": 3,
   "id": "9bc6dc0a",
   "metadata": {},
   "outputs": [
    {
     "name": "stdout",
     "output_type": "stream",
     "text": [
      "Nepal Thailand Kuwait\n"
     ]
    }
   ],
   "source": [
    "print(\"Nepal\",\"Thailand\",\"Kuwait\")"
   ]
  },
  {
   "cell_type": "code",
   "execution_count": 4,
   "id": "981d61d9",
   "metadata": {},
   "outputs": [
    {
     "name": "stdout",
     "output_type": "stream",
     "text": [
      "Nepal/Thailand/Kuwait\n"
     ]
    }
   ],
   "source": [
    "print(\"Nepal\",\"Thailand\",\"Kuwait\", sep ='/')"
   ]
  },
  {
   "cell_type": "markdown",
   "id": "09c587c7",
   "metadata": {},
   "source": [
    "#data types\n",
    ". Basic data types (integer,float,complex,boolean and string)\n",
    ". Container Types ( List, Tuples, Sets and Dictionary)\n",
    ". User defined types ( class)"
   ]
  },
  {
   "cell_type": "code",
   "execution_count": 1,
   "id": "7f484fa9",
   "metadata": {},
   "outputs": [
    {
     "name": "stdout",
     "output_type": "stream",
     "text": [
      "4\n"
     ]
    }
   ],
   "source": [
    "#integer\n",
    "print(4)"
   ]
  },
  {
   "cell_type": "code",
   "execution_count": 2,
   "id": "65a9d5b1",
   "metadata": {},
   "outputs": [
    {
     "name": "stdout",
     "output_type": "stream",
     "text": [
      "5.5\n"
     ]
    }
   ],
   "source": [
    "#float\n",
    "print(5.5)"
   ]
  },
  {
   "cell_type": "code",
   "execution_count": 4,
   "id": "478c328d",
   "metadata": {},
   "outputs": [
    {
     "name": "stdout",
     "output_type": "stream",
     "text": [
      "True\n"
     ]
    }
   ],
   "source": [
    "#boolean\n",
    "print(True)"
   ]
  },
  {
   "cell_type": "code",
   "execution_count": 5,
   "id": "d6a55066",
   "metadata": {},
   "outputs": [
    {
     "name": "stdout",
     "output_type": "stream",
     "text": [
      "Kathmandu\n"
     ]
    }
   ],
   "source": [
    "#string\n",
    "print('Kathmandu')"
   ]
  },
  {
   "cell_type": "markdown",
   "id": "c04b71d6",
   "metadata": {},
   "source": []
  }
 ],
 "metadata": {
  "kernelspec": {
   "display_name": "Python 3 (ipykernel)",
   "language": "python",
   "name": "python3"
  },
  "language_info": {
   "codemirror_mode": {
    "name": "ipython",
    "version": 3
   },
   "file_extension": ".py",
   "mimetype": "text/x-python",
   "name": "python",
   "nbconvert_exporter": "python",
   "pygments_lexer": "ipython3",
   "version": "3.10.6"
  }
 },
 "nbformat": 4,
 "nbformat_minor": 5
}
